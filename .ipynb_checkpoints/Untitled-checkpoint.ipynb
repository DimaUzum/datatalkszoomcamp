{
 "cells": [
  {
   "cell_type": "code",
   "execution_count": 1,
   "id": "e7b8058e-9857-4f23-b0ce-d9c916f16e40",
   "metadata": {},
   "outputs": [
    {
     "name": "stdout",
     "output_type": "stream",
     "text": [
      "Hello World in Codescpaces\n"
     ]
    }
   ],
   "source": [
    "print(\"Hello World in Codescpaces\")"
   ]
  },
  {
   "cell_type": "code",
   "execution_count": null,
   "id": "0f7b98fa-f889-4c51-8f7e-3b68e69edd1d",
   "metadata": {},
   "outputs": [],
   "source": []
  }
 ],
 "metadata": {
  "kernelspec": {
   "display_name": "Python 3 (ipykernel)",
   "language": "python",
   "name": "python3"
  },
  "language_info": {
   "codemirror_mode": {
    "name": "ipython",
    "version": 3
   },
   "file_extension": ".py",
   "mimetype": "text/x-python",
   "name": "python",
   "nbconvert_exporter": "python",
   "pygments_lexer": "ipython3",
   "version": "3.10.13"
  }
 },
 "nbformat": 4,
 "nbformat_minor": 5
}
